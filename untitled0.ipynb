{
  "nbformat": 4,
  "nbformat_minor": 0,
  "metadata": {
    "colab": {
      "provenance": [],
      "authorship_tag": "ABX9TyOYAwBmNvXQ9kQipcSbubOT"
    },
    "kernelspec": {
      "name": "python3",
      "display_name": "Python 3"
    },
    "language_info": {
      "name": "python"
    }
  },
  "cells": [
    {
      "cell_type": "markdown",
      "source": [
        "Решение кейса: «Прогнозирование размеров сварного шва»\n",
        "1. Начальный анализ данных (EDA).\n",
        "Загрузка и исследование данных. Оценка их структуры.\n",
        "Выполнение визуализации распределения  параметров.\n",
        "Оценка корреляции между параметрами."
      ],
      "metadata": {
        "id": "HWO9esAtu3AN"
      }
    },
    {
      "cell_type": "code",
      "execution_count": null,
      "metadata": {
        "id": "CBaAWtTdj2-q"
      },
      "outputs": [],
      "source": [
        "import pandas as pd\n",
        "\n"
      ]
    }
  ]
}