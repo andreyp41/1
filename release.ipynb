{
  "nbformat": 4,
  "nbformat_minor": 0,
  "metadata": {
    "colab": {
      "provenance": [],
      "authorship_tag": "ABX9TyMgnmg2M6YJBRfVCVu6daGV",
      "include_colab_link": true
    },
    "kernelspec": {
      "name": "python3",
      "display_name": "Python 3"
    },
    "language_info": {
      "name": "python"
    }
  },
  "cells": [
    {
      "cell_type": "markdown",
      "metadata": {
        "id": "view-in-github",
        "colab_type": "text"
      },
      "source": [
        "<a href=\"https://colab.research.google.com/github/andreyp41/1/blob/main/release.ipynb\" target=\"_parent\"><img src=\"https://colab.research.google.com/assets/colab-badge.svg\" alt=\"Open In Colab\"/></a>"
      ]
    },
    {
      "cell_type": "markdown",
      "source": [
        "Решение кейса: «Прогнозирование размеров сварного шва»\n",
        "1. Начальный анализ данных (EDA).\n",
        "Загрузка и исследование данных. Оценка их структуры.\n",
        "Выполнение визуализации распределения  параметров.\n",
        "Оценка корреляции между параметрами."
      ],
      "metadata": {
        "id": "HWO9esAtu3AN"
      }
    },
    {
      "cell_type": "code",
      "execution_count": null,
      "metadata": {
        "id": "CBaAWtTdj2-q"
      },
      "outputs": [],
      "source": [
        "import pandas as pd\n",
        "\n",
        "import seaborn as sns\n",
        "import matplotlib.pyplot as plt\n",
        "\n",
        "# Загрузка данных\n",
        "df = pd.read_csv('/content/sample_data/ebw_data.csv')\n"
      ]
    }
  ]
}